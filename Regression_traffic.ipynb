{
 "cells": [
  {
   "cell_type": "code",
   "execution_count": 1,
   "id": "0f6dbf87",
   "metadata": {},
   "outputs": [],
   "source": [
    "import pandas as pd\n",
    "from sklearn.linear_model import LinearRegression"
   ]
  },
  {
   "cell_type": "code",
   "execution_count": 2,
   "id": "de49f93a",
   "metadata": {},
   "outputs": [],
   "source": [
    "# load traffic data\n",
    "traffic = pd.read_csv('LE5D_D.txt', sep='\\t')\n",
    "#traffic.head(30)"
   ]
  },
  {
   "cell_type": "code",
   "execution_count": 3,
   "id": "c6387233",
   "metadata": {},
   "outputs": [],
   "source": [
    "# Define the features and target variables\n",
    "features = ['tt_ex','nsnow', 'ntemp']\n",
    "target = 'tt_vf'"
   ]
  },
  {
   "cell_type": "code",
   "execution_count": 4,
   "id": "1a29fb71",
   "metadata": {},
   "outputs": [],
   "source": [
    "# Split the data into training and testing sets\n",
    "train_data = traffic.sample(frac=0.8, random_state=1)\n",
    "test_data = traffic.drop(train_data.index)\n",
    "#train_data"
   ]
  },
  {
   "cell_type": "code",
   "execution_count": 5,
   "id": "c2f5aa3a",
   "metadata": {},
   "outputs": [
    {
     "data": {
      "text/plain": [
       "LinearRegression()"
      ]
     },
     "execution_count": 5,
     "metadata": {},
     "output_type": "execute_result"
    }
   ],
   "source": [
    "# Train a linear regression model on the training data\n",
    "reg = LinearRegression()\n",
    "reg.fit(train_data[features], train_data[target])"
   ]
  },
  {
   "cell_type": "code",
   "execution_count": 6,
   "id": "b78164ed",
   "metadata": {},
   "outputs": [],
   "source": [
    "# Predict traffic volume for the test dat\n",
    "predictions = reg.predict(test_data[features])"
   ]
  },
  {
   "cell_type": "code",
   "execution_count": 7,
   "id": "ba39d699",
   "metadata": {},
   "outputs": [
    {
     "name": "stdout",
     "output_type": "stream",
     "text": [
      "Mean absolute error:  0.0476148668275278\n"
     ]
    }
   ],
   "source": [
    "# Calculate the mean absolute error of the predictions\n",
    "mae = abs(predictions - test_data[target]).mean()\n",
    "print(\"Mean absolute error: \", mae)"
   ]
  }
 ],
 "metadata": {
  "kernelspec": {
   "display_name": "Python 3 (ipykernel)",
   "language": "python",
   "name": "python3"
  },
  "language_info": {
   "codemirror_mode": {
    "name": "ipython",
    "version": 3
   },
   "file_extension": ".py",
   "mimetype": "text/x-python",
   "name": "python",
   "nbconvert_exporter": "python",
   "pygments_lexer": "ipython3",
   "version": "3.9.13"
  }
 },
 "nbformat": 4,
 "nbformat_minor": 5
}
